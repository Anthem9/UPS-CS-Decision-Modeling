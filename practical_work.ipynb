{
 "cells": [
  {
   "cell_type": "markdown",
   "source": [
    "# Decision Modeling Binary Relations Practical Work"
   ],
   "metadata": {
    "collapsed": false,
    "pycharm": {
     "name": "#%% md\n"
    }
   }
  },
  {
   "cell_type": "markdown",
   "source": [
    "1. For all the questions below, the binary relation is represented by a matrix given in an Excel file (.xls or .xlsx).\n",
    "- You could implement a Python function converting this file to a .csv file.\n",
    "- You could implement a Python function showing a graphical representation of this matrix by using appropriate libraries like networkx and matplotlib."
   ],
   "metadata": {
    "collapsed": false,
    "pycharm": {
     "name": "#%% md\n"
    }
   }
  },
  {
   "cell_type": "code",
   "execution_count": 59,
   "outputs": [],
   "source": [
    "import pandas as pd\n",
    "import networkx as nx\n",
    "import numpy as np\n",
    "import matplotlib.pyplot as plt\n",
    "\n",
    "def xlsx_to_csv(file_name):\n",
    "    data_xlsx = pd.read_excel(file_name, index_col=0)\n",
    "    data_xlsx.to_csv(file_name[:-4]+\"csv\", encoding=\"utf-8\")\n",
    "\n",
    "class BinaryRelationsMatrix():\n",
    "\n",
    "    def __init__(self, matrix):\n",
    "        self.matrix = matrix\n",
    "\n",
    "    def show_graph(self):\n",
    "        np_matrix = np.matrix(self.matrix)\n",
    "        graph = nx.from_numpy_matrix(np_matrix)\n",
    "        nx.draw(graph)\n",
    "        plt.show()\n",
    "\n",
    "    def is_reflexive(self):\n",
    "        '''\n",
    "        if for every x ∈ X, x R x;\n",
    "        :return: True\n",
    "        '''\n",
    "        n = len(self.matrix)\n",
    "        for i in range(n):\n",
    "            if not self.matrix[i][i]:\n",
    "                return False\n",
    "        return True\n",
    "\n",
    "    def is_irreflexive(self):\n",
    "        '''\n",
    "        if for every x ∈ X, not(x R x)\n",
    "        :return: True\n",
    "        '''\n",
    "        n = len(self.matrix)\n",
    "        for i in range(n):\n",
    "            if self.matrix[i][i]:\n",
    "                return False\n",
    "        return True\n",
    "\n",
    "    def is_complete(self):\n",
    "        '''\n",
    "        if for every x, y ∈ X, x R y or y R x (possibly both);\n",
    "        :return: True\n",
    "        '''\n",
    "        n = len(self.matrix)\n",
    "        for i in range(n):\n",
    "            for j in range(n):\n",
    "                if not (self.matrix[i][j] or self.matrix[j][i]):\n",
    "                    return False\n",
    "        return True\n",
    "\n",
    "    # AsymmetricCheck\n",
    "    def is_asymmetric(self):\n",
    "        '''\n",
    "        if for every x, y ∈ X, [x R y ⇒ not(y R x)];\n",
    "        :return: True\n",
    "        '''\n",
    "        n = len(self.matrix)\n",
    "        for i in range(n):\n",
    "            for j in range(n):\n",
    "                if self.matrix[i][j]:\n",
    "                    if not (not self.matrix[j][i]):\n",
    "                        return False\n",
    "        return True\n",
    "\n",
    "    # SymmetricCheck\n",
    "    def is_symmetric(self):\n",
    "        '''\n",
    "        if for every x, y ∈ X, [x R y ⇒ y R x];\n",
    "        :return: True\n",
    "        '''\n",
    "        n = len(self.matrix)\n",
    "        for i in range(n):\n",
    "            for j in range(n):\n",
    "                if self.matrix[i][j]:\n",
    "                    if not self.matrix[j][i]:\n",
    "                        return False\n",
    "        return True\n",
    "\n",
    "    # AntisymmetricCheck\n",
    "    def is_antisymmetric(self):\n",
    "        \"\"\"\n",
    "        if for every x, y ∈ X, [x R y and y R x =⇒ x = y];\n",
    "        :return: Ture\n",
    "        \"\"\"\n",
    "        n = len(self.matrix)\n",
    "        for i in range(n):\n",
    "            for j in range(n):\n",
    "                if self.matrix[i][j] and self.matrix[j][i]:\n",
    "                    if not i == j:\n",
    "                        return False\n",
    "        return True\n",
    "\n",
    "    # TransitiveCheck\n",
    "    def is_transitive(self):\n",
    "        \"\"\"\n",
    "        if for every x, y, z ∈ X, [x R y and y R z =⇒ x R z];\n",
    "        :return: True\n",
    "        \"\"\"\n",
    "        n = len(self.matrix)\n",
    "        for i in range(n):\n",
    "            for j in range(n):\n",
    "                for k in range(n):\n",
    "                    if self.matrix[i][j] and self.matrix[j][k]:\n",
    "                        if not self.matrix[i][k]:\n",
    "                            return False\n",
    "        return True\n",
    "\n",
    "    # NegativetransitiveCheck\n",
    "\n",
    "    def is_negative_transitive(self):\n",
    "        \"\"\"\n",
    "        if for every x, y, z ∈ X, [not(x R y) and not(y R z) =⇒ not(x R z)];\n",
    "        :return: True\n",
    "        \"\"\"\n",
    "        n = len(self.matrix)\n",
    "        for i in range(n):\n",
    "            for j in range(n):\n",
    "                for k in range(n):\n",
    "                    if (not self.matrix[i][j]) and (not self.matrix[j][k]):\n",
    "                        if not (not self.matrix[i][k]):\n",
    "                            return False\n",
    "        return True\n",
    "\n",
    "    # CompleteOrderCheck\n",
    "    def is_complete_order(self):\n",
    "        \"\"\"\n",
    "        A binary relation R on X is a total order or a linear order if R is complete, antisymmetric and transitive.\n",
    "        :return:\n",
    "        \"\"\"\n",
    "        return self.is_complete() and self.is_antisymmetric() and self.is_transitive()\n",
    "\n",
    "    # CompletePreOrderCheck\n",
    "    def is_complete_preorder(self):\n",
    "        \"\"\"\n",
    "        A binary relation R on X is a weak order or a complete preorder if R is complete and transitive.\n",
    "        \"\"\"\n",
    "        return self.is_complete() and self.is_transitive()\n",
    "\n",
    "    # Preorder\n",
    "    def is_preorder(self):\n",
    "        \"\"\"\n",
    "        A binary relation R on X is a preorder if R is reflexive and transitive.\n",
    "        :return: True\n",
    "        \"\"\"\n",
    "        return self.is_reflexive() and self.is_transitive()\n",
    "\n",
    "    def is_equivalence_relation(self):\n",
    "        \"\"\"\n",
    "        A binary relation R on X that is reflexive, symmetric and transitive is called an equivalence relation.\n",
    "        :return: True\n",
    "        \"\"\"\n",
    "        return self.is_reflexive() and self.is_symmetric() and self.is_transitive()\n",
    "\n",
    "    # StrictRelation\n",
    "\n",
    "    def get_strict_relation(self):\n",
    "        \"\"\"\n",
    "        For a binary relation R on X, we define a symmetric part I and an asymmetric\n",
    "        part P as follows: for all x, y ∈ X\n",
    "        x I y if [x R y and y R x]\n",
    "        x P y if [x R y and not(y R x)]\n",
    "        :return: n * n Matrix\n",
    "        \"\"\"\n",
    "        n = len(self.matrix)\n",
    "        strict_part = [[False for _ in range(n)] for _ in range(n)]\n",
    "        for i in range(n):\n",
    "            for j in range(n):\n",
    "                if  self.matrix[i][j] and self.matrix[j][i]:\n",
    "                    strict_part[i][j] = True\n",
    "                else:\n",
    "                    strict_part[i][j] = False\n",
    "        return strict_part\n",
    "\n",
    "    # IndifferenceRelation\n",
    "    def get_indifference_relation(self):\n",
    "        \"\"\"\n",
    "        For a binary relation R on X, we define a symmetric part I and an asymmetric\n",
    "        part P as follows: for all x, y ∈ X\n",
    "        x I y if [x R y and y R x]\n",
    "        x P y if [x R y and not(y R x)]\n",
    "        :return: n * n Matrix\n",
    "        \"\"\"\n",
    "        n = len(self.matrix)\n",
    "        indifference_part = [[False for _ in range(n)] for _ in range(n)]\n",
    "        for i in range(n):\n",
    "            for j in range(n):\n",
    "                if self.matrix[i][j] and not (self.matrix[j][i]):\n",
    "                    indifference_part[i][j] = True\n",
    "                else:\n",
    "                    indifference_part[i][j] = False\n",
    "        return indifference_part\n",
    "\n",
    "    # Indegree\n",
    "    def get_indegree(self, i):\n",
    "        indegree = 0\n",
    "        n = len(self.matrix)\n",
    "        for j in range(n):\n",
    "            if self.matrix[j][i] == True:\n",
    "                indegree = indegree + 1\n",
    "        return indegree\n",
    "\n",
    "    # Topologicalsorting\n",
    "    def topological_sort(self):\n",
    "        \"\"\"\n",
    "        Topological sorting for Directed Acyclic Graph (DAG) is a linear ordering of\n",
    "        vertices such that for every directed edge uv, vertex u comes before v in the\n",
    "        ordering.\n",
    "        Topological Sorting for a graph is not possible if the graph is not a DAG.\n",
    "        :return:\n",
    "        \"\"\"\n",
    "        n = len(self.matrix)\n",
    "        graph = [[] for _ in range(n)]\n",
    "        indegree = [0] * n\n",
    "        for i in range(n):\n",
    "            for j in range(n):\n",
    "                if matrix[j][i] == True:\n",
    "                    indegree[i] = indegree[i] + 1\n",
    "        queue = []\n",
    "        count = 0\n",
    "        for k in range(n):\n",
    "            if indegree[k] == 0:\n",
    "                queue.append(k)\n",
    "\n",
    "        while queue:\n",
    "            v = queue.pop(0)\n",
    "            count = count + 1\n",
    "            for w in matrix[v]:\n",
    "                indegree[w] = indegree[w] - 1\n",
    "                if indegree[w] == 0:\n",
    "                    queue.append(w)\n",
    "\n",
    "        if count == n:\n",
    "            return queue\n",
    "        else:\n",
    "            print(\"Not DAG!\")\n",
    "            return None\n",
    "\n"
   ],
   "metadata": {
    "collapsed": false,
    "pycharm": {
     "name": "#%%\n"
    }
   }
  },
  {
   "cell_type": "markdown",
   "source": [
    "Test converting function"
   ],
   "metadata": {
    "collapsed": false,
    "pycharm": {
     "name": "#%% md\n"
    }
   }
  },
  {
   "cell_type": "code",
   "execution_count": 60,
   "outputs": [],
   "source": [
    "xlsx_to_csv(\"DeMTest.xlsx\")"
   ],
   "metadata": {
    "collapsed": false,
    "pycharm": {
     "name": "#%%\n"
    }
   }
  },
  {
   "cell_type": "markdown",
   "source": [
    "Test graph function"
   ],
   "metadata": {
    "collapsed": false,
    "pycharm": {
     "name": "#%% md\n"
    }
   }
  },
  {
   "cell_type": "code",
   "execution_count": 61,
   "outputs": [
    {
     "data": {
      "text/plain": "<Figure size 640x480 with 1 Axes>",
      "image/png": "[encoded data removed]"
     },
     "metadata": {},
     "output_type": "display_data"
    }
   ],
   "source": [
    "matrix = np.loadtxt(\"DeMTest.csv\", delimiter=\",\", skiprows=0)\n",
    "matrix = np.array(matrix, dtype=bool)\n",
    "test1 = BinaryRelationsMatrix(matrix)\n",
    "test1.show_graph()"
   ],
   "metadata": {
    "collapsed": false,
    "pycharm": {
     "name": "#%%\n"
    }
   }
  },
  {
   "cell_type": "markdown",
   "source": [
    "2. Build a Python function CompleteCheck testing if a binary relation is complete."
   ],
   "metadata": {
    "collapsed": false,
    "pycharm": {
     "name": "#%% md\n"
    }
   }
  },
  {
   "cell_type": "code",
   "execution_count": 62,
   "outputs": [
    {
     "data": {
      "text/plain": "False"
     },
     "execution_count": 62,
     "metadata": {},
     "output_type": "execute_result"
    }
   ],
   "source": [
    "test1.is_complete()"
   ],
   "metadata": {
    "collapsed": false,
    "pycharm": {
     "name": "#%%\n"
    }
   }
  },
  {
   "cell_type": "markdown",
   "source": [
    "3. Build a Python function ReflexiveCheck testing if a binary relation is reflexive."
   ],
   "metadata": {
    "collapsed": false,
    "pycharm": {
     "name": "#%% md\n"
    }
   }
  },
  {
   "cell_type": "code",
   "execution_count": 63,
   "outputs": [
    {
     "data": {
      "text/plain": "False"
     },
     "execution_count": 63,
     "metadata": {},
     "output_type": "execute_result"
    }
   ],
   "source": [
    "test1.is_reflexive()"
   ],
   "metadata": {
    "collapsed": false,
    "pycharm": {
     "name": "#%%\n"
    }
   }
  },
  {
   "cell_type": "markdown",
   "source": [
    "4. Build a Python function AsymmetricCheck testing if a binary relation is asymmetric."
   ],
   "metadata": {
    "collapsed": false,
    "pycharm": {
     "name": "#%% md\n"
    }
   }
  },
  {
   "cell_type": "code",
   "execution_count": 64,
   "outputs": [
    {
     "data": {
      "text/plain": "False"
     },
     "execution_count": 64,
     "metadata": {},
     "output_type": "execute_result"
    }
   ],
   "source": [
    "test1.is_asymmetric()"
   ],
   "metadata": {
    "collapsed": false,
    "pycharm": {
     "name": "#%%\n"
    }
   }
  },
  {
   "cell_type": "markdown",
   "source": [
    "5. Build a Python function SymmetricCheck testing if a binary relation is symmetric."
   ],
   "metadata": {
    "collapsed": false,
    "pycharm": {
     "name": "#%% md\n"
    }
   }
  },
  {
   "cell_type": "code",
   "execution_count": 65,
   "outputs": [
    {
     "data": {
      "text/plain": "False"
     },
     "execution_count": 65,
     "metadata": {},
     "output_type": "execute_result"
    }
   ],
   "source": [
    "test1.is_symmetric()"
   ],
   "metadata": {
    "collapsed": false,
    "pycharm": {
     "name": "#%%\n"
    }
   }
  },
  {
   "cell_type": "markdown",
   "source": [
    "6. Build a Python function AntisymmetricCheck testing if a binary relation is antisymmetric."
   ],
   "metadata": {
    "collapsed": false,
    "pycharm": {
     "name": "#%% md\n"
    }
   }
  },
  {
   "cell_type": "code",
   "execution_count": 66,
   "outputs": [
    {
     "data": {
      "text/plain": "False"
     },
     "execution_count": 66,
     "metadata": {},
     "output_type": "execute_result"
    }
   ],
   "source": [
    "test1.is_antisymmetric()"
   ],
   "metadata": {
    "collapsed": false,
    "pycharm": {
     "name": "#%%\n"
    }
   }
  },
  {
   "cell_type": "markdown",
   "source": [
    "7. Build a Python function TransitiveCheck testing if a binary relation is transitive."
   ],
   "metadata": {
    "collapsed": false,
    "pycharm": {
     "name": "#%% md\n"
    }
   }
  },
  {
   "cell_type": "code",
   "execution_count": 67,
   "outputs": [
    {
     "data": {
      "text/plain": "False"
     },
     "execution_count": 67,
     "metadata": {},
     "output_type": "execute_result"
    }
   ],
   "source": [
    "test1.is_transitive()"
   ],
   "metadata": {
    "collapsed": false,
    "pycharm": {
     "name": "#%%\n"
    }
   }
  },
  {
   "cell_type": "markdown",
   "source": [
    "8. Build a Python function NegativetransitiveCheck testing if a binary relation is negativetransitive."
   ],
   "metadata": {
    "collapsed": false,
    "pycharm": {
     "name": "#%% md\n"
    }
   }
  },
  {
   "cell_type": "code",
   "execution_count": 68,
   "outputs": [
    {
     "data": {
      "text/plain": "False"
     },
     "execution_count": 68,
     "metadata": {},
     "output_type": "execute_result"
    }
   ],
   "source": [
    "test1.is_negative_transitive()"
   ],
   "metadata": {
    "collapsed": false,
    "pycharm": {
     "name": "#%%\n"
    }
   }
  },
  {
   "cell_type": "markdown",
   "source": [
    "9. Build a Python function CompleteOrderCheck testing if a binary relation is a complete order"
   ],
   "metadata": {
    "collapsed": false,
    "pycharm": {
     "name": "#%% md\n"
    }
   }
  },
  {
   "cell_type": "code",
   "execution_count": 69,
   "outputs": [
    {
     "data": {
      "text/plain": "False"
     },
     "execution_count": 69,
     "metadata": {},
     "output_type": "execute_result"
    }
   ],
   "source": [
    "test1.is_complete_order()"
   ],
   "metadata": {
    "collapsed": false,
    "pycharm": {
     "name": "#%%\n"
    }
   }
  },
  {
   "cell_type": "markdown",
   "source": [
    "10. Build a Python function CompletePreOrderCheck testing if a binary relation is a complete pre-order."
   ],
   "metadata": {
    "collapsed": false,
    "pycharm": {
     "name": "#%% md\n"
    }
   }
  },
  {
   "cell_type": "code",
   "execution_count": 70,
   "outputs": [
    {
     "data": {
      "text/plain": "False"
     },
     "execution_count": 70,
     "metadata": {},
     "output_type": "execute_result"
    }
   ],
   "source": [
    "test1.is_complete_preorder()"
   ],
   "metadata": {
    "collapsed": false,
    "pycharm": {
     "name": "#%%\n"
    }
   }
  },
  {
   "cell_type": "markdown",
   "source": [
    "11. Build a Python function StrictRelation returning the strict relation part of a binary relation"
   ],
   "metadata": {
    "collapsed": false,
    "pycharm": {
     "name": "#%% md\n"
    }
   }
  },
  {
   "cell_type": "code",
   "execution_count": 71,
   "outputs": [
    {
     "data": {
      "text/plain": "[[False, False, True, True],\n [False, True, False, False],\n [True, False, True, False],\n [True, False, False, True]]"
     },
     "execution_count": 71,
     "metadata": {},
     "output_type": "execute_result"
    }
   ],
   "source": [
    "test1.get_strict_relation()"
   ],
   "metadata": {
    "collapsed": false,
    "pycharm": {
     "name": "#%%\n"
    }
   }
  },
  {
   "cell_type": "markdown",
   "source": [
    "12. Build a Python function IndifferenceRelation returning the indifference relation part of a binary relation."
   ],
   "metadata": {
    "collapsed": false,
    "pycharm": {
     "name": "#%% md\n"
    }
   }
  },
  {
   "cell_type": "code",
   "execution_count": 72,
   "outputs": [
    {
     "data": {
      "text/plain": "[[False, True, False, False],\n [False, False, False, True],\n [False, False, False, False],\n [False, False, False, False]]"
     },
     "execution_count": 72,
     "metadata": {},
     "output_type": "execute_result"
    }
   ],
   "source": [
    "test1.get_indifference_relation()"
   ],
   "metadata": {
    "collapsed": false,
    "pycharm": {
     "name": "#%%\n"
    }
   }
  },
  {
   "cell_type": "markdown",
   "source": [
    "13. Build a Python function Topologicalsorting returning a topological sorting of a binary relation."
   ],
   "metadata": {
    "collapsed": false,
    "pycharm": {
     "name": "#%% md\n"
    }
   }
  },
  {
   "cell_type": "code",
   "execution_count": 73,
   "outputs": [
    {
     "name": "stdout",
     "output_type": "stream",
     "text": [
      "Not DAG!\n"
     ]
    }
   ],
   "source": [
    "test1.topological_sort()"
   ],
   "metadata": {
    "collapsed": false,
    "pycharm": {
     "name": "#%%\n"
    }
   }
  }
 ],
 "metadata": {
  "kernelspec": {
   "display_name": "Python 3",
   "language": "python",
   "name": "python3"
  },
  "language_info": {
   "codemirror_mode": {
    "name": "ipython",
    "version": 2
   },
   "file_extension": ".py",
   "mimetype": "text/x-python",
   "name": "python",
   "nbconvert_exporter": "python",
   "pygments_lexer": "ipython2",
   "version": "2.7.6"
  }
 },
 "nbformat": 4,
 "nbformat_minor": 0
}